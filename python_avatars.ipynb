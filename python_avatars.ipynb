{
 "cells": [
  {
   "cell_type": "code",
   "execution_count": 1,
   "id": "7f9b2329",
   "metadata": {},
   "outputs": [],
   "source": [
    "import python_avatars as pa"
   ]
  },
  {
   "cell_type": "code",
   "execution_count": 70,
   "id": "47c85ef7",
   "metadata": {},
   "outputs": [],
   "source": [
    "my_avatar=pa.Avatar.random(style=pa.AvatarStyle.CIRCLE,background_color=pa.BackgroundColor.BLACK,top=pa.HairType.SIDES,facial_hair=pa.FacialHairType.NONE,hair_color=pa.HairColor.BLACK,accessory=pa.AccessoryType.NONE,clothing=pa.ClothingType.BLAZER_SHIRT)"
   ]
  },
  {
   "cell_type": "code",
   "execution_count": 79,
   "id": "358a15cd",
   "metadata": {},
   "outputs": [
    {
     "data": {
      "text/plain": [
       "'<svg xmlns=\"http://www.w3.org/2000/svg\" xmlns:xlink=\"http://www.w3.org/1999/xlink\" width=\"264px\" height=\"280px\" viewBox=\"0 0 264 280\" version=\"1.1\">\\n    <title id=\"circle_Title\">Avataaar/Circle</title>\\n    <desc>Created with python_avatars</desc>\\n    <defs>\\n        <circle id=\"circle_path-1\" cx=\"120\" cy=\"120\" r=\"120\" />\\n        <path d=\"M-3.19744231e-14,160 L-3.19744231e-14,-1.42108547e-14 L264,-1.42108547e-14 L264,160 L252,160 C252,226.27417 198.27417,280 132,280 C65.72583,280 12,226.27417 12,160 L12,160 L-3.19744231e-14,160 Z\" id=\"circle_path-3\" />\\n        <path d=\"M100,0 C130.927946,-5.68137151e-15 156,25.072054 156,56 L156.000809,62.1660527 C161.675838,63.1185422 166,68.05429 166,74 L166,88 C166,94.0524166 161.519235,99.0582945 155.693975,99.8813638 C153.627928,119.686472 141.237929,136.421678 124.001014,144.610469 L124,163 L128,163 C167.764502,163 200,195.235498 200,235 L200,244 L0,244 L0,235 C-4.86974701e-15,195.235498 32.235498,163 72,163 L76,163 L75.9999836,144.610943 C58.7625487,136.422324 46.3721119,119.686854 44.3051107,99.8809698 C38.480765,99.0582945 34,94.0524166 34,88 L34,74 C34,68.053942 38.3246685,63.1179645 44.0001873,62.1658855 L44,56 C44,25.072054 69.072054,5.68137151e-15 100,0 Z\" id=\"circle_path-5\" />\\n        <path d=\"M83,36.3476251 C83,52.6289957 105.161905,65.8276544 132.5,65.8276544 C159.838095,65.8276544 182,52.6289957 182,36.3476251 C182,34.9853134 181.844841,33.6445843 181.544472,32.3313638 C210.784239,41.4879251 232,68.792221 232,101.051724 L232,110 L32,110 L32,101.051724 C32,68.3970853 53.7386736,40.8197864 83.5337207,32.0021267 C83.1821692,33.4207025 83,34.871494 83,36.3476251 Z\" id=\"circle_path-7\" />\\n        <rect id=\"circle_path-9\" x=\"0\" y=\"0\" width=\"264\" height=\"280\" />\\n        <path d=\"M74,0 C114.869071,0 148,33.1309285 148,74 L148,84.1482318 L148,197.608051 C135.525121,187.236892 119.490913,181 102,181 L102,181 L98,181 L98,162.610951 C115.530782,154.282984 128.048193,137.114792 129.791419,116.867187 C135.569129,116.002364 140,111.018625 140,105 L140,105 L140,92 C140,87.3536213 137.359271,83.3240177 133.496777,81.3301515 C132.723933,81.0500337 131.951808,80.748163 131.180891,80.4262497 C130.794819,80.3202581 130.400778,80.2331546 130,80.1659169 L130,80.1659169 L130.000458,79.9172528 C117.224481,74.2339715 104.877985,63.0706967 96.1104311,47.8848473 C93.1752556,42.8009742 90.8310687,37.5951441 89.0661426,32.3970356 C80.4313947,42.9409152 67.7445474,53.6023901 52.3415164,62.4953343 C42.777598,68.0170651 33.1467898,72.2910056 24,75.2659587 L24.0003852,137.246608 C29.6019576,148.318362 38.7728825,157.277529 50,162.610951 L50,162.610951 L50,181 L46,181 C38.3273639,181 30.9350359,182.200142 24.0004995,184.422941 L24,230 C24,244.105888 13.5691766,255.775526 0,257.716445 L0,74 C0,33.1309285 33.1309285,0 74,0 Z\" id=\"circle_path-11\" />\\n    </defs>\\n    <g id=\"circle_Avataaar/Circle\" stroke=\"none\" stroke-width=\"1\" fill=\"none\" fill-rule=\"evenodd\">\\n        <g id=\"circle_Circle\" transform=\"translate(12.000000, 40.000000)\">\\n            <mask id=\"circle_mask-2\" fill=\"white\">\\n                <use xlink:href=\"#circle_path-1\" />\\n            </mask>\\n            <use id=\"circle_Background-Color\" fill=\"#262E33\" xlink:href=\"#circle_path-1\" />\\n            <g id=\"circle_Fabric-Color\" mask=\"url(#circle_mask-2)\" fill=\"\">\\n                <rect id=\"circle_🖍Color\" x=\"0\" y=\"0\" width=\"240\" height=\"240\" />\\n            </g>\\n        </g>\\n        <mask id=\"circle_mask-4\" fill=\"white\">\\n            <use xlink:href=\"#circle_path-3\" />\\n        </mask>\\n        <g id=\"circle_Mask\" />\\n        <g id=\"circle_Avataaar\" mask=\"url(#circle_mask-4)\">\\n            <g id=\"circle_Body\" transform=\"translate(32.000000, 36.000000)\">\\n                <mask id=\"circle_mask-6\" fill=\"white\">\\n                    <use xlink:href=\"#circle_path-5\" />\\n                </mask>\\n                <use fill=\"#D0C6AC\" xlink:href=\"#circle_path-5\" />\\n                <g id=\"circle_Skin-Color\" mask=\"url(#circle_mask-6)\" fill=\"#AE5D29\">\\n                    <g transform=\"translate(-32.000000, 0.000000)\" id=\"circle_Color\">\\n                        <rect x=\"0\" y=\"0\" width=\"264\" height=\"244\" />\\n                    </g>\\n                </g>\\n                <path d=\"M44,94 C44,124.927946 69.072054,150 100,150 C130.927946,150 156,124.927946 156,94 L156,94 L156,102 C156,132.927946 130.927946,158 100,158 C69.072054,158 44,132.927946 44,102 Z\" id=\"circle_Neck-Shadow\" fill-opacity=\"0.100000001\" fill=\"#000000\" mask=\"url(#circle_mask-6)\" />\\n            </g>\\n            <g id=\"circle_Clothing\" transform=\"translate(0.000000, 170.000000)\">\\n                \\n            <defs>\\n        <path d=\"M67,1.34762511 C67,13.2107177 81.9984609,22.8276544 100.5,22.8276544 C119.001539,22.8276544 134,13.2107177 134,1.34762511 C134,0.994756918 133.98673,0.64387605 133.960492,0.295176488 C170.936371,3.3248899 200,34.2942196 200,72.0517235 L200,81 L0,81 L0,72.0517235 C-4.66584974e-15,33.952169 29.5925972,2.76433598 67.0465686,0.219447423 C67.0151943,0.594730017 67,0.970039821 67,1.34762511 Z\" id=\"blazer_shirt_path-1\" />\\n    </defs>\\n    <g id=\"blazer_shirt_Clothing/Blazer-+-Shirt\" stroke=\"none\" stroke-width=\"1\" fill=\"none\" fill-rule=\"evenodd\">\\n        <g id=\"blazer_shirt_Shirt\" transform=\"translate(32.000000, 29.000000)\">\\n            <mask id=\"blazer_shirt_mask-2\" fill=\"white\">\\n                <use xlink:href=\"#blazer_shirt_path-1\" />\\n            </mask>\\n            <use id=\"blazer_shirt_Clothes\" fill=\"#E6E6E6\" xlink:href=\"#blazer_shirt_path-1\" />\\n            <g id=\"blazer_shirt_Fabric-Color\" mask=\"url(#blazer_shirt_mask-2)\" fill=\"#B1E2FF\">\\n                <g transform=\"translate(-32.000000, -29.000000)\" id=\"blazer_shirt_🖍Color\">\\n                    <rect x=\"0\" y=\"0\" width=\"264\" height=\"110\" />\\n                </g>\\n            </g>\\n            <g id=\"blazer_shirt_Shadowy\" opacity=\"0.599999964\" mask=\"url(#blazer_shirt_mask-2)\" fill=\"#000000\" fill-opacity=\"0.16\">\\n                <g transform=\"translate(60.000000, -25.000000)\" id=\"blazer_shirt_Hola-👋🏼\">\\n                    <ellipse cx=\"40.5\" cy=\"27.8476251\" rx=\"39.6351047\" ry=\"26.9138272\" />\\n                </g>\\n            </g>\\n        </g>\\n        <g id=\"blazer_shirt_Blazer\" transform=\"translate(32.000000, 28.000000)\">\\n            <path d=\"M64,40.5 C64,55.7092257 65.9608691,69.9209213 69.3620096,82.0011822 L0,82 L0,73.0517235 C-4.73779789e-15,34.3646678 30.512279,2.80413671 68.7847355,1.12223161 C65.7400343,12.7307619 64,26.1727873 64,40.5 Z M200,73.0517235 L200,82 L131.63799,82.0011822 C135.039131,69.9209213 137,55.7092257 137,40.5 C137,26.194165 135.265154,12.7708778 132.228695,1.1737534 C170.025091,3.36299447 200,34.7068514 200,73.0517235 Z\" id=\"blazer_shirt_Saco\" fill=\"#3A4C5A\" />\\n            <path d=\"M149,58 L158.555853,50.83311 C159.998897,49.7508275 161.987779,49.7682725 163.411616,50.8757011 L170,56 L170,56 L149,58 Z\" id=\"blazer_shirt_Pocket-hanky\" fill=\"#E6E6E6\" />\\n            <path d=\"M69,0 C65,19.3333333 66.6666667,46.6666667 74,82 L58,82 L44,46 L50,37 L44,31 L63,1 C65.027659,0.369238637 67.027659,0.0359053037 69,0 Z\" id=\"blazer_shirt_Wing\" fill=\"#2F4351\" />\\n            <path d=\"M151,0 C147,19.3333333 148.666667,46.6666667 156,82 L140,82 L126,46 L132,37 L126,31 L145,1 C147.027659,0.369238637 149.027659,0.0359053037 151,0 Z\" id=\"blazer_shirt_Wing\" fill=\"#2F4351\" transform=\"translate(141.000000, 41.000000) scale(-1, 1) translate(-141.000000, -41.000000) \" />\\n        </g>\\n    </g>\\n</g>\\n            <g id=\"circle_Face\" transform=\"translate(76.000000, 82.000000)\" fill=\"#000000\">\\n                <g id=\"circle_Mouth\" transform=\"translate(2.000000, 52.000000)\">    \\n                    \\n                <g id=\"twinkle_Mouth/Twinkle\" stroke=\"none\" stroke-width=\"1\" fill=\"none\" fill-rule=\"evenodd\" fill-opacity=\"0.599999964\">\\n        <path d=\"M40,16 C40,21.371763 46.1581544,25 54,25 C61.8418456,25 68,21.371763 68,16 C68,14.8954305 67.050301,14 66,14 C64.7072748,14 64.1302316,14.9051755 64,16 C62.7575758,18.9378973 59.6832595,20.7163149 54,21 C48.3167405,20.7163149 45.2424242,18.9378973 44,16 C43.8697684,14.9051755 43.2927252,14 42,14 C40.949699,14 40,14.8954305 40,16 Z\" id=\"twinkle_Mouth\" fill=\"#000000\" fill-rule=\"nonzero\" />\\n    </g>\\n</g>\\n                <g id=\"circle_Nose\" transform=\"translate(28.000000, 40.000000)\" fill-opacity=\"0.16\">\\n                    \\n                <g id=\"default_Nose/Default\" stroke=\"none\" stroke-width=\"1\" fill=\"none\" fill-rule=\"evenodd\" fill-opacity=\"0.16\">\\n        <path d=\"M16,8 C16,12.418278 21.372583,16 28,16 L28,16 C34.627417,16 40,12.418278 40,8\" id=\"default_Nose\" fill=\"#000000\" />\\n    </g>\\n</g>\\n                <g id=\"circle_Eyes\" transform=\"translate(0.000000, 8.000000)\">\\n                    \\n                <g id=\"wink_wacky_Eyes/Wink-Wacky-😜\" stroke=\"none\" stroke-width=\"1\" fill=\"none\" fill-rule=\"evenodd\">\\n        <circle id=\"wink_wacky_Cornea?-I-don\\'t-know\" fill=\"#FFFFFF\" cx=\"82\" cy=\"22\" r=\"12\" />\\n        <circle id=\"wink_wacky_Eye\" fill-opacity=\"0.699999988\" fill=\"#000000\" cx=\"82\" cy=\"22\" r=\"6\" />\\n        <path d=\"M16.1601674,25.4473116 C18.006676,21.648508 22.1644225,19 26.9975803,19 C31.8136766,19 35.9591217,21.629842 37.8153518,25.4071242 C38.3667605,26.5291977 37.5821037,27.4474817 36.790607,26.7670228 C34.3395063,24.6597833 30.8587163,23.3437884 26.9975803,23.3437884 C23.2572061,23.3437884 19.8737584,24.5787519 17.4375392,26.5716412 C16.5467928,27.3002944 15.6201012,26.5583844 16.1601674,25.4473116 Z\" id=\"wink_wacky_Winky-Doodle\" fill-opacity=\"0.599999964\" fill=\"#000000\" />\\n    </g>\\n</g>\\n                <g id=\"circle_Eyebrow\" fill-opacity=\"0.599999964\">\\n                    \\n                <g id=\"sad_concerned_natural_Eyebrow/Natural/Sad-Concerned-Natural\" stroke=\"none\" stroke-width=\"1\" fill=\"none\" fill-rule=\"evenodd\" fill-opacity=\"0.599999964\">\\n        <path d=\"M22.7663531,5.57844898 L23.6772984,5.17582144 C28.9190996,3.09473425 36.8645466,3.96712704 41.7227321,6.29911638 C42.2897848,6.57148957 41.9021563,7.4519421 41.3211012,7.40711006 C26.4021788,6.25602197 16.3582869,15.5525942 12.9460869,21.8470939 C12.8449215,22.0337142 12.5391523,22.05489 12.4635344,21.8808353 C10.156283,16.5620676 16.9134476,7.89614725 22.7663531,5.57844898 Z\" id=\"sad_concerned_natural_Eyebrow\" fill=\"#000000\" transform=\"translate(27.000000, 13.000000) scale(-1, -1) translate(-27.000000, -13.000000) \" />\\n        <path d=\"M80.7663531,5.57844898 L81.6772984,5.17582144 C86.9190996,3.09473425 94.8645466,3.96712704 99.7227321,6.29911638 C100.289785,6.57148957 99.9021563,7.4519421 99.3211012,7.40711006 C84.4021788,6.25602197 74.3582869,15.5525942 70.9460869,21.8470939 C70.8449215,22.0337142 70.5391523,22.05489 70.4635344,21.8808353 C68.156283,16.5620676 74.9134476,7.89614725 80.7663531,5.57844898 Z\" id=\"sad_concerned_natural_Eyebrow\" fill=\"#000000\" transform=\"translate(85.000000, 13.000000) scale(1, -1) translate(-85.000000, -13.000000) \" />\\n    </g>\\n</g>\\n            </g>\\n            <g id=\"circle_Top\">\\n                \\n            <defs>\\n        <path d=\"M11,3 C8.3404922,11.4766099 11.4173429,27.914487 6,28 C0.923687084,28.0709555 0,26.9937684 0,23 C0,17.3439836 4.0408529,6.77808536 8,2 C9.17612094,-0.170695788 11.6189856,-1.43187215 11,3 Z M115,3 C114.381014,-1.43187215 116.823879,-0.170695788 118,2 C121.959147,6.77808536 126,17.3439836 126,23 C126,26.9937684 125.076313,28.0709555 120,28 C114.582657,27.914487 117.659508,11.4766099 115,3 Z\" id=\"sides_path-1\" />\\n    </defs>\\n    <g id=\"sides_Top/Short-Hair/Sides\" stroke=\"none\" stroke-width=\"1\" fill=\"none\" fill-rule=\"evenodd\">\\n        <g id=\"sides_Facial-Hair\" transform=\"translate(49.000000, 72.000000)\" />\\n        <g id=\"sides_Hair\" transform=\"translate(69.000000, 74.000000)\">\\n            <mask id=\"sides_mask-2\" fill=\"white\">\\n                <use xlink:href=\"#sides_path-1\" />\\n            </mask>\\n            <use id=\"sides_Sides\" fill=\"#9E7A7A\" xlink:href=\"#sides_path-1\" />\\n            <g id=\"sides_Hair-Color\" mask=\"url(#sides_mask-2)\" fill=\"#2C1B18\">\\n                <g transform=\"translate(-69.000000, -74.000000)\" id=\"sides_Color\">\\n                    <rect x=\"0\" y=\"0\" width=\"264\" height=\"280\" />\\n                </g>\\n            </g>\\n        </g>\\n        <g id=\"sides_Accessory\" transform=\"translate(62.000000, 85.000000)\" />\\n    </g>\\n</g>\\n        </g>\\n    </g>\\n</svg>'"
      ]
     },
     "execution_count": 79,
     "metadata": {},
     "output_type": "execute_result"
    }
   ],
   "source": [
    "my_avatar.render(\"Desktop/Avatar/my_avatar20.png\")"
   ]
  },
  {
   "cell_type": "code",
   "execution_count": 67,
   "id": "bf428224",
   "metadata": {},
   "outputs": [
    {
     "data": {
      "text/plain": [
       "[<HairType.NONE: 'no_hair'>,\n",
       " <HairType.BIG_HAIR: 'big_hair'>,\n",
       " <HairType.BOB: 'bob'>,\n",
       " <HairType.BUN: 'bun'>,\n",
       " <HairType.CAESAR_SIDE_PART: 'caesar_side_part'>,\n",
       " <HairType.CAESAR: 'caesar'>,\n",
       " <HairType.CURLY: 'curly'>,\n",
       " <HairType.CURVY: 'curvy'>,\n",
       " <HairType.DREADS: 'dreads'>,\n",
       " <HairType.FRIDA: 'frida'>,\n",
       " <HairType.FRIZZLE: 'frizzle'>,\n",
       " <HairType.FRO_BAND: 'fro_band'>,\n",
       " <HairType.FRO: 'fro'>,\n",
       " <HairType.LONG_NOT_TOO_LONG: 'long_not_too_long'>,\n",
       " <HairType.MIA_WALLACE: 'mia_wallace'>,\n",
       " <HairType.SHAGGY_MULLET: 'shaggy_mullet'>,\n",
       " <HairType.SHAGGY: 'shaggy'>,\n",
       " <HairType.SHAVED_SIDES: 'shaved_sides'>,\n",
       " <HairType.SHORT_CURLY: 'short_curly'>,\n",
       " <HairType.SHORT_DREADS_1: 'short_dreads_1'>,\n",
       " <HairType.SHORT_DREADS_2: 'short_dreads_2'>,\n",
       " <HairType.SHORT_FLAT: 'short_flat'>,\n",
       " <HairType.SHORT_ROUND: 'short_round'>,\n",
       " <HairType.SHORT_WAVED: 'short_waved'>,\n",
       " <HairType.SIDES: 'sides'>,\n",
       " <HairType.STRAIGHT_1: 'straight_1'>,\n",
       " <HairType.STRAIGHT_2: 'straight_2'>,\n",
       " <HairType.STRAIGHT_STRAND: 'straight_strand'>]"
      ]
     },
     "execution_count": 67,
     "metadata": {},
     "output_type": "execute_result"
    }
   ],
   "source": [
    "list(pa.HairType)"
   ]
  },
  {
   "cell_type": "code",
   "execution_count": null,
   "id": "ca70d232",
   "metadata": {},
   "outputs": [],
   "source": [
    "pa.Avatar()"
   ]
  },
  {
   "cell_type": "code",
   "execution_count": 85,
   "id": "4577b8b3",
   "metadata": {},
   "outputs": [],
   "source": [
    "for x in range(0,100):\n",
    "    my_vector=pa.Avatar.random(style=pa.AvatarStyle.CIRCLE,background_color=pa.BackgroundColor.WHITE)\n",
    "    my_vector.render(\"Desktop/Avatar/my_vector_\"+str(x)+\".svg\")"
   ]
  },
  {
   "cell_type": "code",
   "execution_count": 83,
   "id": "59c350b1",
   "metadata": {},
   "outputs": [
    {
     "data": {
      "text/plain": [
       "[<HairType.NONE: 'no_hair'>,\n",
       " <HairType.BIG_HAIR: 'big_hair'>,\n",
       " <HairType.BOB: 'bob'>,\n",
       " <HairType.BUN: 'bun'>,\n",
       " <HairType.CAESAR_SIDE_PART: 'caesar_side_part'>,\n",
       " <HairType.CAESAR: 'caesar'>,\n",
       " <HairType.CURLY: 'curly'>,\n",
       " <HairType.CURVY: 'curvy'>,\n",
       " <HairType.DREADS: 'dreads'>,\n",
       " <HairType.FRIDA: 'frida'>,\n",
       " <HairType.FRIZZLE: 'frizzle'>,\n",
       " <HairType.FRO_BAND: 'fro_band'>,\n",
       " <HairType.FRO: 'fro'>,\n",
       " <HairType.LONG_NOT_TOO_LONG: 'long_not_too_long'>,\n",
       " <HairType.MIA_WALLACE: 'mia_wallace'>,\n",
       " <HairType.SHAGGY_MULLET: 'shaggy_mullet'>,\n",
       " <HairType.SHAGGY: 'shaggy'>,\n",
       " <HairType.SHAVED_SIDES: 'shaved_sides'>,\n",
       " <HairType.SHORT_CURLY: 'short_curly'>,\n",
       " <HairType.SHORT_DREADS_1: 'short_dreads_1'>,\n",
       " <HairType.SHORT_DREADS_2: 'short_dreads_2'>,\n",
       " <HairType.SHORT_FLAT: 'short_flat'>,\n",
       " <HairType.SHORT_ROUND: 'short_round'>,\n",
       " <HairType.SHORT_WAVED: 'short_waved'>,\n",
       " <HairType.SIDES: 'sides'>,\n",
       " <HairType.STRAIGHT_1: 'straight_1'>,\n",
       " <HairType.STRAIGHT_2: 'straight_2'>,\n",
       " <HairType.STRAIGHT_STRAND: 'straight_strand'>]"
      ]
     },
     "execution_count": 83,
     "metadata": {},
     "output_type": "execute_result"
    }
   ],
   "source": [
    "list(pa)"
   ]
  },
  {
   "cell_type": "code",
   "execution_count": 84,
   "id": "f246ccb4",
   "metadata": {},
   "outputs": [
    {
     "data": {
      "text/plain": [
       "[<AvatarStyle.TRANSPARENT: 'transparent'>, <AvatarStyle.CIRCLE: 'circle'>]"
      ]
     },
     "execution_count": 84,
     "metadata": {},
     "output_type": "execute_result"
    }
   ],
   "source": [
    "list(pa.AvatarStyle)"
   ]
  },
  {
   "cell_type": "code",
   "execution_count": 86,
   "id": "a381e85c",
   "metadata": {},
   "outputs": [],
   "source": [
    "import os"
   ]
  },
  {
   "cell_type": "code",
   "execution_count": 92,
   "id": "21f93a6a",
   "metadata": {},
   "outputs": [
    {
     "data": {
      "text/plain": [
       "['my_vector_0.svg',\n",
       " 'my_vector_1.svg',\n",
       " 'my_vector_10.svg',\n",
       " 'my_vector_11.svg',\n",
       " 'my_vector_12.svg',\n",
       " 'my_vector_13.svg',\n",
       " 'my_vector_14.svg',\n",
       " 'my_vector_15.svg',\n",
       " 'my_vector_16.svg',\n",
       " 'my_vector_17.svg',\n",
       " 'my_vector_18.svg',\n",
       " 'my_vector_19.svg',\n",
       " 'my_vector_2.svg',\n",
       " 'my_vector_20.svg',\n",
       " 'my_vector_21.svg',\n",
       " 'my_vector_22.svg',\n",
       " 'my_vector_23.svg',\n",
       " 'my_vector_24.svg',\n",
       " 'my_vector_25.svg',\n",
       " 'my_vector_26.svg',\n",
       " 'my_vector_27.svg',\n",
       " 'my_vector_28.svg',\n",
       " 'my_vector_29.svg',\n",
       " 'my_vector_3.svg',\n",
       " 'my_vector_30.svg',\n",
       " 'my_vector_31.svg',\n",
       " 'my_vector_32.svg',\n",
       " 'my_vector_33.svg',\n",
       " 'my_vector_34.svg',\n",
       " 'my_vector_35.svg',\n",
       " 'my_vector_36.svg',\n",
       " 'my_vector_37.svg',\n",
       " 'my_vector_38.svg',\n",
       " 'my_vector_39.svg',\n",
       " 'my_vector_4.svg',\n",
       " 'my_vector_40.svg',\n",
       " 'my_vector_41.svg',\n",
       " 'my_vector_42.svg',\n",
       " 'my_vector_43.svg',\n",
       " 'my_vector_44.svg',\n",
       " 'my_vector_45.svg',\n",
       " 'my_vector_46.svg',\n",
       " 'my_vector_47.svg',\n",
       " 'my_vector_48.svg',\n",
       " 'my_vector_49.svg',\n",
       " 'my_vector_5.svg',\n",
       " 'my_vector_50.svg',\n",
       " 'my_vector_51.svg',\n",
       " 'my_vector_52.svg',\n",
       " 'my_vector_53.svg',\n",
       " 'my_vector_54.svg',\n",
       " 'my_vector_55.svg',\n",
       " 'my_vector_56.svg',\n",
       " 'my_vector_57.svg',\n",
       " 'my_vector_58.svg',\n",
       " 'my_vector_59.svg',\n",
       " 'my_vector_6.svg',\n",
       " 'my_vector_60.svg',\n",
       " 'my_vector_61.svg',\n",
       " 'my_vector_62.svg',\n",
       " 'my_vector_63.svg',\n",
       " 'my_vector_64.svg',\n",
       " 'my_vector_65.svg',\n",
       " 'my_vector_66.svg',\n",
       " 'my_vector_67.svg',\n",
       " 'my_vector_68.svg',\n",
       " 'my_vector_69.svg',\n",
       " 'my_vector_7.svg',\n",
       " 'my_vector_70.svg',\n",
       " 'my_vector_71.svg',\n",
       " 'my_vector_72.svg',\n",
       " 'my_vector_73.svg',\n",
       " 'my_vector_74.svg',\n",
       " 'my_vector_75.svg',\n",
       " 'my_vector_76.svg',\n",
       " 'my_vector_77.svg',\n",
       " 'my_vector_78.svg',\n",
       " 'my_vector_79.svg',\n",
       " 'my_vector_8.svg',\n",
       " 'my_vector_80.svg',\n",
       " 'my_vector_81.svg',\n",
       " 'my_vector_82.svg',\n",
       " 'my_vector_83.svg',\n",
       " 'my_vector_84.svg',\n",
       " 'my_vector_85.svg',\n",
       " 'my_vector_86.svg',\n",
       " 'my_vector_87.svg',\n",
       " 'my_vector_88.svg',\n",
       " 'my_vector_89.svg',\n",
       " 'my_vector_9.svg',\n",
       " 'my_vector_90.svg',\n",
       " 'my_vector_91.svg',\n",
       " 'my_vector_92.svg',\n",
       " 'my_vector_93.svg',\n",
       " 'my_vector_94.svg',\n",
       " 'my_vector_95.svg',\n",
       " 'my_vector_96.svg',\n",
       " 'my_vector_97.svg',\n",
       " 'my_vector_98.svg',\n",
       " 'my_vector_99.svg']"
      ]
     },
     "execution_count": 92,
     "metadata": {},
     "output_type": "execute_result"
    }
   ],
   "source": [
    "os.listdir(\"Desktop/Avatar\")"
   ]
  },
  {
   "cell_type": "code",
   "execution_count": null,
   "id": "4d2d793c",
   "metadata": {},
   "outputs": [],
   "source": []
  }
 ],
 "metadata": {
  "kernelspec": {
   "display_name": "Python 3 (ipykernel)",
   "language": "python",
   "name": "python3"
  },
  "language_info": {
   "codemirror_mode": {
    "name": "ipython",
    "version": 3
   },
   "file_extension": ".py",
   "mimetype": "text/x-python",
   "name": "python",
   "nbconvert_exporter": "python",
   "pygments_lexer": "ipython3",
   "version": "3.9.7"
  }
 },
 "nbformat": 4,
 "nbformat_minor": 5
}
